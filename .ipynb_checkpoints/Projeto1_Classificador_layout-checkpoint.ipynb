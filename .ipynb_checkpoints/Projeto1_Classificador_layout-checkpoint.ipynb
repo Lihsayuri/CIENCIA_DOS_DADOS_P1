{
 "cells": [
  {
   "cell_type": "markdown",
   "metadata": {},
   "source": [
    "# Projeto 1 - Ciência dos Dados"
   ]
  },
  {
   "cell_type": "markdown",
   "metadata": {},
   "source": [
    "Nome: Lívia Sayuri Makuta.\n",
    "\n",
    "Nome: Bernardo Cunha Capoferri\n",
    "\n",
    "Nome: Henrique Martinelli Frezzatti "
   ]
  },
  {
   "cell_type": "markdown",
   "metadata": {},
   "source": [
    "**Atenção:** Serão permitidos grupos de três pessoas, mas com uma rubrica mais exigente. Grupos deste tamanho precisarão fazer um questionário de avaliação de trabalho em equipe"
   ]
  },
  {
   "cell_type": "markdown",
   "metadata": {},
   "source": [
    "___\n",
    "Carregando algumas bibliotecas:"
   ]
  },
  {
   "cell_type": "code",
   "execution_count": 15,
   "metadata": {},
   "outputs": [],
   "source": [
    "%matplotlib inline\n",
    "import pandas as pd\n",
    "import matplotlib.pyplot as plt\n",
    "import numpy as np\n",
    "import os"
   ]
  },
  {
   "cell_type": "markdown",
   "metadata": {},
   "source": [
    "**Em `filename`, coloque o nome do seu arquivo de dados!**"
   ]
  },
  {
   "cell_type": "code",
   "execution_count": 16,
   "metadata": {
    "scrolled": false
   },
   "outputs": [
    {
     "name": "stdout",
     "output_type": "stream",
     "text": [
      "Encontrei o arquivo coca_cola_copia.xlsx, tudo certo para prosseguir com a prova!\n"
     ]
    }
   ],
   "source": [
    "import os\n",
    "\n",
    "filename = 'coca_cola_copia.xlsx'\n",
    "if filename in os.listdir():\n",
    "    print(f'Encontrei o arquivo {filename}, tudo certo para prosseguir com a prova!')\n",
    "else:\n",
    "    print(f'Não encontrei o arquivo {filename} aqui no diretório {os.getcwd()}, será que você não baixou o arquivo?')"
   ]
  },
  {
   "cell_type": "markdown",
   "metadata": {},
   "source": [
    "Carregando a base de dados com os tweets classificados como relevantes e não relevantes:"
   ]
  },
  {
   "cell_type": "code",
   "execution_count": 17,
   "metadata": {},
   "outputs": [
    {
     "data": {
      "text/html": [
       "<div>\n",
       "<style scoped>\n",
       "    .dataframe tbody tr th:only-of-type {\n",
       "        vertical-align: middle;\n",
       "    }\n",
       "\n",
       "    .dataframe tbody tr th {\n",
       "        vertical-align: top;\n",
       "    }\n",
       "\n",
       "    .dataframe thead th {\n",
       "        text-align: right;\n",
       "    }\n",
       "</style>\n",
       "<table border=\"1\" class=\"dataframe\">\n",
       "  <thead>\n",
       "    <tr style=\"text-align: right;\">\n",
       "      <th></th>\n",
       "      <th>Treinamento</th>\n",
       "      <th>CATEGORIAS_1</th>\n",
       "      <th>(0: irrelevante ; 1: relevante ; 2: muito relevante)</th>\n",
       "    </tr>\n",
       "  </thead>\n",
       "  <tbody>\n",
       "    <tr>\n",
       "      <th>0</th>\n",
       "      <td>coisas inúteis sobre mim\\naltura — 1,72\\nidade...</td>\n",
       "      <td>2</td>\n",
       "      <td>NaN</td>\n",
       "    </tr>\n",
       "    <tr>\n",
       "      <th>1</th>\n",
       "      <td>coisas inúteis sobre mim\\naltura — 1,55\\nidade...</td>\n",
       "      <td>2</td>\n",
       "      <td>NaN</td>\n",
       "    </tr>\n",
       "    <tr>\n",
       "      <th>2</th>\n",
       "      <td>@jihycoid coca-cola?kkkk</td>\n",
       "      <td>0</td>\n",
       "      <td>NaN</td>\n",
       "    </tr>\n",
       "    <tr>\n",
       "      <th>3</th>\n",
       "      <td>rt @eholuan: só bebo coca cola agr, espero q m...</td>\n",
       "      <td>1</td>\n",
       "      <td>NaN</td>\n",
       "    </tr>\n",
       "    <tr>\n",
       "      <th>4</th>\n",
       "      <td>rt @ferrg__: já dizia meu irmão marco antônio ...</td>\n",
       "      <td>1</td>\n",
       "      <td>NaN</td>\n",
       "    </tr>\n",
       "  </tbody>\n",
       "</table>\n",
       "</div>"
      ],
      "text/plain": [
       "                                         Treinamento  CATEGORIAS_1  \\\n",
       "0  coisas inúteis sobre mim\\naltura — 1,72\\nidade...             2   \n",
       "1  coisas inúteis sobre mim\\naltura — 1,55\\nidade...             2   \n",
       "2                           @jihycoid coca-cola?kkkk             0   \n",
       "3  rt @eholuan: só bebo coca cola agr, espero q m...             1   \n",
       "4  rt @ferrg__: já dizia meu irmão marco antônio ...             1   \n",
       "\n",
       "   (0: irrelevante ; 1: relevante ; 2: muito relevante)  \n",
       "0                                                NaN     \n",
       "1                                                NaN     \n",
       "2                                                NaN     \n",
       "3                                                NaN     \n",
       "4                                                NaN     "
      ]
     },
     "execution_count": 17,
     "metadata": {},
     "output_type": "execute_result"
    }
   ],
   "source": [
    "train = pd.read_excel(filename)\n",
    "train.head(5)"
   ]
  },
  {
   "cell_type": "code",
   "execution_count": 18,
   "metadata": {},
   "outputs": [
    {
     "data": {
      "text/html": [
       "<div>\n",
       "<style scoped>\n",
       "    .dataframe tbody tr th:only-of-type {\n",
       "        vertical-align: middle;\n",
       "    }\n",
       "\n",
       "    .dataframe tbody tr th {\n",
       "        vertical-align: top;\n",
       "    }\n",
       "\n",
       "    .dataframe thead th {\n",
       "        text-align: right;\n",
       "    }\n",
       "</style>\n",
       "<table border=\"1\" class=\"dataframe\">\n",
       "  <thead>\n",
       "    <tr style=\"text-align: right;\">\n",
       "      <th></th>\n",
       "      <th>Teste</th>\n",
       "      <th>CATEGORIAS_2</th>\n",
       "      <th>(0: irrelevante ; 1: relevante ; 2: muito relevante)</th>\n",
       "    </tr>\n",
       "  </thead>\n",
       "  <tbody>\n",
       "    <tr>\n",
       "      <th>0</th>\n",
       "      <td>@liegloss @thomzxx a coca-cola não me chama ne...</td>\n",
       "      <td>0</td>\n",
       "      <td>NaN</td>\n",
       "    </tr>\n",
       "    <tr>\n",
       "      <th>1</th>\n",
       "      <td>tomando coca cola 6hrs da manhã ao invés de to...</td>\n",
       "      <td>1</td>\n",
       "      <td>NaN</td>\n",
       "    </tr>\n",
       "    <tr>\n",
       "      <th>2</th>\n",
       "      <td>coisas inúteis sobre mim\\naltura — 1,56\\nidade...</td>\n",
       "      <td>2</td>\n",
       "      <td>NaN</td>\n",
       "    </tr>\n",
       "    <tr>\n",
       "      <th>3</th>\n",
       "      <td>rt @_samirars: estou com uma vontade imensa de...</td>\n",
       "      <td>1</td>\n",
       "      <td>NaN</td>\n",
       "    </tr>\n",
       "    <tr>\n",
       "      <th>4</th>\n",
       "      <td>@themethodic fui ver aqui e 1 pacotinho desse ...</td>\n",
       "      <td>0</td>\n",
       "      <td>NaN</td>\n",
       "    </tr>\n",
       "  </tbody>\n",
       "</table>\n",
       "</div>"
      ],
      "text/plain": [
       "                                               Teste  CATEGORIAS_2  \\\n",
       "0  @liegloss @thomzxx a coca-cola não me chama ne...             0   \n",
       "1  tomando coca cola 6hrs da manhã ao invés de to...             1   \n",
       "2  coisas inúteis sobre mim\\naltura — 1,56\\nidade...             2   \n",
       "3  rt @_samirars: estou com uma vontade imensa de...             1   \n",
       "4  @themethodic fui ver aqui e 1 pacotinho desse ...             0   \n",
       "\n",
       "    (0: irrelevante ; 1: relevante ; 2: muito relevante)  \n",
       "0                                                NaN      \n",
       "1                                                NaN      \n",
       "2                                                NaN      \n",
       "3                                                NaN      \n",
       "4                                                NaN      "
      ]
     },
     "execution_count": 18,
     "metadata": {},
     "output_type": "execute_result"
    }
   ],
   "source": [
    "test = pd.read_excel(filename, sheet_name = 'Teste')\n",
    "test.head(5)"
   ]
  },
  {
   "cell_type": "code",
   "execution_count": 19,
   "metadata": {},
   "outputs": [],
   "source": [
    "dados = pd.read_csv('coca_cola_copia_2.csv')\n"
   ]
  },
  {
   "cell_type": "code",
   "execution_count": 20,
   "metadata": {},
   "outputs": [
    {
     "data": {
      "text/html": [
       "<div>\n",
       "<style scoped>\n",
       "    .dataframe tbody tr th:only-of-type {\n",
       "        vertical-align: middle;\n",
       "    }\n",
       "\n",
       "    .dataframe tbody tr th {\n",
       "        vertical-align: top;\n",
       "    }\n",
       "\n",
       "    .dataframe thead th {\n",
       "        text-align: right;\n",
       "    }\n",
       "</style>\n",
       "<table border=\"1\" class=\"dataframe\">\n",
       "  <thead>\n",
       "    <tr style=\"text-align: right;\">\n",
       "      <th></th>\n",
       "      <th>Treinamento</th>\n",
       "      <th>CATEGORIAS_1</th>\n",
       "      <th>(0: irrelevante ; 1: relevante ; 2: muito relevante)</th>\n",
       "    </tr>\n",
       "  </thead>\n",
       "  <tbody>\n",
       "    <tr>\n",
       "      <th>0</th>\n",
       "      <td>coisas inúteis sobre mim\\naltura — 1,72\\nidade...</td>\n",
       "      <td>Muito relevante</td>\n",
       "      <td>NaN</td>\n",
       "    </tr>\n",
       "    <tr>\n",
       "      <th>1</th>\n",
       "      <td>coisas inúteis sobre mim\\naltura — 1,55\\nidade...</td>\n",
       "      <td>Muito relevante</td>\n",
       "      <td>NaN</td>\n",
       "    </tr>\n",
       "    <tr>\n",
       "      <th>2</th>\n",
       "      <td>@jihycoid coca-cola?kkkk</td>\n",
       "      <td>Irrelevante</td>\n",
       "      <td>NaN</td>\n",
       "    </tr>\n",
       "    <tr>\n",
       "      <th>3</th>\n",
       "      <td>rt @eholuan: só bebo coca cola agr, espero q m...</td>\n",
       "      <td>Relevante</td>\n",
       "      <td>NaN</td>\n",
       "    </tr>\n",
       "    <tr>\n",
       "      <th>4</th>\n",
       "      <td>rt @ferrg__: já dizia meu irmão marco antônio ...</td>\n",
       "      <td>Relevante</td>\n",
       "      <td>NaN</td>\n",
       "    </tr>\n",
       "  </tbody>\n",
       "</table>\n",
       "</div>"
      ],
      "text/plain": [
       "                                         Treinamento     CATEGORIAS_1  \\\n",
       "0  coisas inúteis sobre mim\\naltura — 1,72\\nidade...  Muito relevante   \n",
       "1  coisas inúteis sobre mim\\naltura — 1,55\\nidade...  Muito relevante   \n",
       "2                           @jihycoid coca-cola?kkkk      Irrelevante   \n",
       "3  rt @eholuan: só bebo coca cola agr, espero q m...        Relevante   \n",
       "4  rt @ferrg__: já dizia meu irmão marco antônio ...        Relevante   \n",
       "\n",
       "   (0: irrelevante ; 1: relevante ; 2: muito relevante)  \n",
       "0                                                NaN     \n",
       "1                                                NaN     \n",
       "2                                                NaN     \n",
       "3                                                NaN     \n",
       "4                                                NaN     "
      ]
     },
     "execution_count": 20,
     "metadata": {},
     "output_type": "execute_result"
    }
   ],
   "source": [
    "test['CATEGORIAS_2'] = test['CATEGORIAS_2'].astype('category')\n",
    "train['CATEGORIAS_1'] = train['CATEGORIAS_1'].astype('category')\n",
    "\n",
    "test.CATEGORIAS_2.cat.categories = ['Irrelevante','Relevante','Muito relevante']\n",
    "train.CATEGORIAS_1.cat.categories = ['Irrelevante','Relevante','Muito relevante']\n",
    "\n",
    "test.CATEGORIAS_2= pd.Categorical(test.CATEGORIAS_2, categories=['Irrelevante','Relevante','Muito relevante'], ordered=True)\n",
    "train.CATEGORIAS_1= pd.Categorical(train.CATEGORIAS_1, categories=['Irrelevante','Relevante','Muito relevante'], ordered=True)\n",
    "\n",
    "\n",
    "train.head()"
   ]
  },
  {
   "cell_type": "markdown",
   "metadata": {},
   "source": [
    "___\n",
    "## Classificador automático de sentimento\n"
   ]
  },
  {
   "cell_type": "markdown",
   "metadata": {},
   "source": [
    "Faça aqui uma descrição do seu produto e o que considerou como relevante ou não relevante na classificação dos tweets.\n",
    "\n",
    "O produto escolhido foi a bebida coca-cola, sendo assim outros produtos da marca não foram considerados. \n",
    "Para separar os tweets entre relevante, irrelevante e muito relevante, levamos em consideração se o tweet falava explicitamente sobre o gosto da pessoa por coca-cola. \n",
    "\n",
    "Dessa forma, o tweet seria considerado muito relevante se, por exemplo, falasse: \"amo coca-cola\", \"minha bebida favorita é coca-cola\". E consideramos apenas relevante tweets que citavam coca-cola com outras coisas ou que não falavam explicitamente que gostavam de coca-cola, por exemplo: \"pão com coca-cola\". Por fim, consideramos irrelevantes tweets que citavam coca-cola em uma expressão ou que estavam muito pouco relacionados com o fato dos autores da mensagem gostarem da bebida, por exemplo: \"se acha a última coca-cola do deserto\", \"ontem fui no mercado e vi coca-cola\".        "
   ]
  },
  {
   "cell_type": "markdown",
   "metadata": {},
   "source": [
    "___\n",
    "### Montando um Classificador Naive-Bayes\n",
    "\n",
    "Considerando apenas as mensagens da planilha Treinamento, ensine  seu classificador."
   ]
  },
  {
   "cell_type": "code",
   "execution_count": 21,
   "metadata": {},
   "outputs": [],
   "source": [
    "import re \n",
    "\n",
    "\n",
    "\n",
    "spec_chars = [\"!\",\"—\",\" \"'\"',\"#\",\"%\",\"&\",\"'\",\"(\",\")\",\n",
    "              \"*\",\"+\",\",\",\"-\",\".\",\"/\",\":\",\";\",\"<\",\n",
    "              \"=\",\">\",\"?\",\"@\",\"[\",\"\\\\\",\"]\",\"^\",\"_\",\n",
    "              \"`\",\"{\",\"|\",\"}\",\"~\",\"–\",\"kkkkkkkkkkkkk\",\"j8l9rfxlzm\",\"https t co pom5f4bfi4\",\"0wfmxcndfp\"]\n",
    "\n",
    "for char in spec_chars:\n",
    "    train['Treinamento'] = train['Treinamento'].str.replace(char, ' ')\n",
    "    train['Treinamento'] = train['Treinamento'].str.split().str.join(\" \")\n",
    "\n",
    "\n",
    "\n"
   ]
  },
  {
   "cell_type": "code",
   "execution_count": 22,
   "metadata": {},
   "outputs": [
    {
     "data": {
      "text/html": [
       "<div>\n",
       "<style scoped>\n",
       "    .dataframe tbody tr th:only-of-type {\n",
       "        vertical-align: middle;\n",
       "    }\n",
       "\n",
       "    .dataframe tbody tr th {\n",
       "        vertical-align: top;\n",
       "    }\n",
       "\n",
       "    .dataframe thead th {\n",
       "        text-align: right;\n",
       "    }\n",
       "</style>\n",
       "<table border=\"1\" class=\"dataframe\">\n",
       "  <thead>\n",
       "    <tr style=\"text-align: right;\">\n",
       "      <th></th>\n",
       "      <th>Treinamento</th>\n",
       "      <th>CATEGORIAS_1</th>\n",
       "      <th>(0: irrelevante ; 1: relevante ; 2: muito relevante)</th>\n",
       "    </tr>\n",
       "  </thead>\n",
       "  <tbody>\n",
       "    <tr>\n",
       "      <th>0</th>\n",
       "      <td>coisas inúteis sobre mim altura 1 72 idade 15 ...</td>\n",
       "      <td>Muito relevante</td>\n",
       "      <td>NaN</td>\n",
       "    </tr>\n",
       "    <tr>\n",
       "      <th>1</th>\n",
       "      <td>coisas inúteis sobre mim altura 1 55 idade 19 ...</td>\n",
       "      <td>Muito relevante</td>\n",
       "      <td>NaN</td>\n",
       "    </tr>\n",
       "    <tr>\n",
       "      <th>2</th>\n",
       "      <td>jihycoid coca cola kkkk</td>\n",
       "      <td>Irrelevante</td>\n",
       "      <td>NaN</td>\n",
       "    </tr>\n",
       "    <tr>\n",
       "      <th>3</th>\n",
       "      <td>rt eholuan só bebo coca cola agr espero q me e...</td>\n",
       "      <td>Relevante</td>\n",
       "      <td>NaN</td>\n",
       "    </tr>\n",
       "    <tr>\n",
       "      <th>4</th>\n",
       "      <td>rt ferrg já dizia meu irmão marco antônio vulg...</td>\n",
       "      <td>Relevante</td>\n",
       "      <td>NaN</td>\n",
       "    </tr>\n",
       "  </tbody>\n",
       "</table>\n",
       "</div>"
      ],
      "text/plain": [
       "                                         Treinamento     CATEGORIAS_1  \\\n",
       "0  coisas inúteis sobre mim altura 1 72 idade 15 ...  Muito relevante   \n",
       "1  coisas inúteis sobre mim altura 1 55 idade 19 ...  Muito relevante   \n",
       "2                            jihycoid coca cola kkkk      Irrelevante   \n",
       "3  rt eholuan só bebo coca cola agr espero q me e...        Relevante   \n",
       "4  rt ferrg já dizia meu irmão marco antônio vulg...        Relevante   \n",
       "\n",
       "   (0: irrelevante ; 1: relevante ; 2: muito relevante)  \n",
       "0                                                NaN     \n",
       "1                                                NaN     \n",
       "2                                                NaN     \n",
       "3                                                NaN     \n",
       "4                                                NaN     "
      ]
     },
     "execution_count": 22,
     "metadata": {},
     "output_type": "execute_result"
    }
   ],
   "source": [
    "train.head()\n",
    "\n"
   ]
  },
  {
   "cell_type": "code",
   "execution_count": 54,
   "metadata": {},
   "outputs": [],
   "source": [
    "lista_treinamento= list(train.Treinamento)\n",
    "lista_treinamento[0]\n",
    "\n",
    "Muito_relevante = (train['CATEGORIAS_1'] == 'Muito relevante')\n",
    "filtro_muito_relevante = train.loc[Muito_relevante,:]\n",
    "\n",
    "Relevante = train['CATEGORIAS_1'] == 'Relevante'\n",
    "filtro_relevante = train.loc[Relevante,:]\n",
    "\n",
    "Irrelevante = train['CATEGORIAS_1'] == 'Irrelevante'\n",
    "filtro_irrelevante = train.loc[Irrelevante,:]\n",
    "\n",
    "LISTA_TREINAMENTO_MUITO_RELEVANTE = list(filtro_muito_relevante.Treinamento)\n",
    "\n",
    "\n",
    "LISTA_TREINAMENTO_RELEVANTE = list(filtro_relevante.Treinamento)\n",
    "\n",
    "\n",
    "LISTA_TREINAMENTO_IRRELEVANTE = list(filtro_irrelevante.Treinamento)\n"
   ]
  },
  {
   "cell_type": "code",
   "execution_count": 51,
   "metadata": {},
   "outputs": [
    {
     "data": {
      "text/html": [
       "<div>\n",
       "<style scoped>\n",
       "    .dataframe tbody tr th:only-of-type {\n",
       "        vertical-align: middle;\n",
       "    }\n",
       "\n",
       "    .dataframe tbody tr th {\n",
       "        vertical-align: top;\n",
       "    }\n",
       "\n",
       "    .dataframe thead th {\n",
       "        text-align: right;\n",
       "    }\n",
       "</style>\n",
       "<table border=\"1\" class=\"dataframe\">\n",
       "  <thead>\n",
       "    <tr style=\"text-align: right;\">\n",
       "      <th></th>\n",
       "      <th>Treinamento</th>\n",
       "      <th>CATEGORIAS_1</th>\n",
       "      <th>(0: irrelevante ; 1: relevante ; 2: muito relevante)</th>\n",
       "    </tr>\n",
       "  </thead>\n",
       "  <tbody>\n",
       "    <tr>\n",
       "      <th>0</th>\n",
       "      <td>coisas inúteis sobre mim altura 1 72 idade 15 ...</td>\n",
       "      <td>Muito relevante</td>\n",
       "      <td>NaN</td>\n",
       "    </tr>\n",
       "    <tr>\n",
       "      <th>1</th>\n",
       "      <td>coisas inúteis sobre mim altura 1 55 idade 19 ...</td>\n",
       "      <td>Muito relevante</td>\n",
       "      <td>NaN</td>\n",
       "    </tr>\n",
       "    <tr>\n",
       "      <th>7</th>\n",
       "      <td>coisas inúteis sobre mim altura não sei tamanh...</td>\n",
       "      <td>Muito relevante</td>\n",
       "      <td>NaN</td>\n",
       "    </tr>\n",
       "    <tr>\n",
       "      <th>8</th>\n",
       "      <td>coisas inúteis sobre mim altura 1 83 idade 18 ...</td>\n",
       "      <td>Muito relevante</td>\n",
       "      <td>NaN</td>\n",
       "    </tr>\n",
       "    <tr>\n",
       "      <th>10</th>\n",
       "      <td>coisas inúteis sobre mim altura 1 60 idade tam...</td>\n",
       "      <td>Muito relevante</td>\n",
       "      <td>NaN</td>\n",
       "    </tr>\n",
       "    <tr>\n",
       "      <th>...</th>\n",
       "      <td>...</td>\n",
       "      <td>...</td>\n",
       "      <td>...</td>\n",
       "    </tr>\n",
       "    <tr>\n",
       "      <th>788</th>\n",
       "      <td>coisas inúteis sobre mim altura 1 56 tamanho d...</td>\n",
       "      <td>Muito relevante</td>\n",
       "      <td>NaN</td>\n",
       "    </tr>\n",
       "    <tr>\n",
       "      <th>789</th>\n",
       "      <td>coisas inúteis sobre mim altura 1 66 idade 16 ...</td>\n",
       "      <td>Muito relevante</td>\n",
       "      <td>NaN</td>\n",
       "    </tr>\n",
       "    <tr>\n",
       "      <th>793</th>\n",
       "      <td>coisas inúteis sobre mim altura 1 64 idade 22 ...</td>\n",
       "      <td>Muito relevante</td>\n",
       "      <td>NaN</td>\n",
       "    </tr>\n",
       "    <tr>\n",
       "      <th>794</th>\n",
       "      <td>coisas inúteis sobre mim altura 1 56 idade 19 ...</td>\n",
       "      <td>Muito relevante</td>\n",
       "      <td>NaN</td>\n",
       "    </tr>\n",
       "    <tr>\n",
       "      <th>797</th>\n",
       "      <td>como eu amo coca cola</td>\n",
       "      <td>Muito relevante</td>\n",
       "      <td>NaN</td>\n",
       "    </tr>\n",
       "  </tbody>\n",
       "</table>\n",
       "<p>266 rows × 3 columns</p>\n",
       "</div>"
      ],
      "text/plain": [
       "                                           Treinamento     CATEGORIAS_1  \\\n",
       "0    coisas inúteis sobre mim altura 1 72 idade 15 ...  Muito relevante   \n",
       "1    coisas inúteis sobre mim altura 1 55 idade 19 ...  Muito relevante   \n",
       "7    coisas inúteis sobre mim altura não sei tamanh...  Muito relevante   \n",
       "8    coisas inúteis sobre mim altura 1 83 idade 18 ...  Muito relevante   \n",
       "10   coisas inúteis sobre mim altura 1 60 idade tam...  Muito relevante   \n",
       "..                                                 ...              ...   \n",
       "788  coisas inúteis sobre mim altura 1 56 tamanho d...  Muito relevante   \n",
       "789  coisas inúteis sobre mim altura 1 66 idade 16 ...  Muito relevante   \n",
       "793  coisas inúteis sobre mim altura 1 64 idade 22 ...  Muito relevante   \n",
       "794  coisas inúteis sobre mim altura 1 56 idade 19 ...  Muito relevante   \n",
       "797                              como eu amo coca cola  Muito relevante   \n",
       "\n",
       "     (0: irrelevante ; 1: relevante ; 2: muito relevante)  \n",
       "0                                                  NaN     \n",
       "1                                                  NaN     \n",
       "7                                                  NaN     \n",
       "8                                                  NaN     \n",
       "10                                                 NaN     \n",
       "..                                                 ...     \n",
       "788                                                NaN     \n",
       "789                                                NaN     \n",
       "793                                                NaN     \n",
       "794                                                NaN     \n",
       "797                                                NaN     \n",
       "\n",
       "[266 rows x 3 columns]"
      ]
     },
     "execution_count": 51,
     "metadata": {},
     "output_type": "execute_result"
    }
   ],
   "source": [
    "filtro_muito_relevante"
   ]
  },
  {
   "cell_type": "code",
   "execution_count": null,
   "metadata": {},
   "outputs": [],
   "source": []
  },
  {
   "cell_type": "code",
   "execution_count": 59,
   "metadata": {},
   "outputs": [],
   "source": [
    "lista_treinamento=[]\n",
    "for linha in LISTA_TREINAMENTO:\n",
    "    linha_nova = linha.split()\n",
    "    for palavra in linha_nova:\n",
    "        lista_treinamento.append(palavra)\n",
    "\n",
    "lista_treinamento_muito_relevante=[]\n",
    "for linha in LISTA_TREINAMENTO_MUITO_RELEVANTE:\n",
    "    linha_nova = linha.split()\n",
    "    for palavra in linha_nova:\n",
    "        lista_treinamento_muito_relevante.append(palavra)\n",
    "\n",
    "\n",
    "\n",
    "lista_treinamento_relevante=[]\n",
    "for linha in LISTA_TREINAMENTO_RELEVANTE:\n",
    "    linha_nova = linha.split()\n",
    "    for palavra in linha_nova:\n",
    "        lista_treinamento_relevante.append(palavra)\n",
    "\n",
    "\n",
    "\n",
    "lista_treinamento_irrelevante=[]\n",
    "for linha in LISTA_TREINAMENTO_IRRELEVANTE:\n",
    "    linha_nova = linha.split()\n",
    "    for palavra in linha_nova:\n",
    "        lista_treinamento_irrelevante.append(palavra)\n",
    "\n",
    "\n",
    "\n",
    "\n"
   ]
  },
  {
   "cell_type": "code",
   "execution_count": 63,
   "metadata": {},
   "outputs": [
    {
     "data": {
      "text/plain": [
       "coca          0.054734\n",
       "cola          0.052926\n",
       "de            0.033531\n",
       "e             0.023340\n",
       "eu            0.019888\n",
       "                ...   \n",
       "🤷🏻‍♂️         0.000164\n",
       "vencomigo     0.000164\n",
       "eugrbrbipb    0.000164\n",
       "história      0.000164\n",
       "parar         0.000164\n",
       "Length: 1955, dtype: float64"
      ]
     },
     "execution_count": 63,
     "metadata": {},
     "output_type": "execute_result"
    }
   ],
   "source": [
    "serie_treinamento = pd.Series(lista_treinamento)\n",
    "serie_treinamento_muito_relevante = pd.Series(lista_treinamento_muito_relevante)\n",
    "serie_treinamento_relevante = pd.Series(lista_treinamento_relevante)\n",
    "serie_treinamento_irrelevante = pd.Series(lista_treinamento_irrelevante)\n",
    "\n",
    "\n",
    "tabela_relativa = serie_treinamento.value_counts(True)\n",
    "tabela_relativa_muito_relevante = serie_treinamento_muito_relevante.value_counts(True)\n",
    "tabela_relativa_relevante = serie_treinamento_relevante.value_counts(True)\n",
    "tabela_relativa_irrelevante = serie_treinamento_irrelevante.value_counts(True)\n",
    "\n",
    "tabela_relativa_irrelevante"
   ]
  },
  {
   "cell_type": "code",
   "execution_count": 38,
   "metadata": {},
   "outputs": [
    {
     "data": {
      "text/plain": [
       "5.254327590935985e-08"
      ]
     },
     "execution_count": 38,
     "metadata": {},
     "output_type": "execute_result"
    }
   ],
   "source": [
    "bebida = tabela_relativa['bebida']\n",
    "fav = tabela_relativa['fav']\n",
    "P_bebidafav = bebida*fav\n",
    "P_bebidafav\n",
    "\n",
    "\n",
    "bom = tabela_relativa['bom']\n",
    "coca = tabela_relativa ['coca']\n",
    "P_cocabom = bom*coca\n",
    "P_cocabom\n",
    "\n",
    "quero = tabela_relativa['quero']\n",
    "tomar = tabela_relativa['tomar']\n",
    "P_querotomarcoca = quero*tomar*coca\n",
    "P_querotomarcoca"
   ]
  },
  {
   "cell_type": "markdown",
   "metadata": {},
   "source": [
    "___\n",
    "### Verificando a performance do Classificador\n",
    "\n",
    "Agora você deve testar o seu classificador com a base de Testes."
   ]
  },
  {
   "cell_type": "code",
   "execution_count": null,
   "metadata": {},
   "outputs": [],
   "source": []
  },
  {
   "cell_type": "code",
   "execution_count": null,
   "metadata": {},
   "outputs": [],
   "source": []
  },
  {
   "cell_type": "code",
   "execution_count": null,
   "metadata": {},
   "outputs": [],
   "source": []
  },
  {
   "cell_type": "markdown",
   "metadata": {},
   "source": [
    "___\n",
    "### Concluindo"
   ]
  },
  {
   "cell_type": "code",
   "execution_count": null,
   "metadata": {},
   "outputs": [],
   "source": []
  },
  {
   "cell_type": "code",
   "execution_count": null,
   "metadata": {},
   "outputs": [],
   "source": []
  },
  {
   "cell_type": "markdown",
   "metadata": {},
   "source": [
    "___\n",
    "## Aperfeiçoamento:\n",
    "\n",
    "Os trabalhos vão evoluir em conceito dependendo da quantidade de itens avançados:\n",
    "\n",
    "* Limpar: \\n, :, \", ', (, ), etc SEM remover emojis\n",
    "* Corrigir separação de espaços entre palavras e emojis ou entre emojis e emojis\n",
    "* Propor outras limpezas e transformações que não afetem a qualidade da informação ou classificação\n",
    "* Criar categorias intermediárias de relevância baseadas na probabilidade: ex.: muito relevante, relevante, neutro, irrelevante, muito irrelevante (3 categorias: C, mais categorias conta para B)\n",
    "* Explicar por que não posso usar o próprio classificador para gerar mais amostras de treinamento\n",
    "* Propor diferentes cenários para Naïve Bayes fora do contexto do projeto\n",
    "* Sugerir e explicar melhorias reais com indicações concretas de como implementar (indicar como fazer e indicar material de pesquisa)\n",
    "* Montar um dashboard que realiza análise de sentimento e visualiza estes dados"
   ]
  },
  {
   "cell_type": "markdown",
   "metadata": {},
   "source": [
    "___\n",
    "## Referências"
   ]
  },
  {
   "cell_type": "markdown",
   "metadata": {},
   "source": [
    "[Naive Bayes and Text Classification](https://arxiv.org/pdf/1410.5329.pdf)  **Mais completo**\n",
    "\n",
    "[A practical explanation of a Naive Bayes Classifier](https://monkeylearn.com/blog/practical-explanation-naive-bayes-classifier/) **Mais simples**"
   ]
  },
  {
   "cell_type": "code",
   "execution_count": null,
   "metadata": {},
   "outputs": [],
   "source": []
  }
 ],
 "metadata": {
  "kernelspec": {
   "display_name": "Python 3",
   "language": "python",
   "name": "python3"
  },
  "language_info": {
   "codemirror_mode": {
    "name": "ipython",
    "version": 3
   },
   "file_extension": ".py",
   "mimetype": "text/x-python",
   "name": "python",
   "nbconvert_exporter": "python",
   "pygments_lexer": "ipython3",
   "version": "3.7.6"
  }
 },
 "nbformat": 4,
 "nbformat_minor": 4
}
